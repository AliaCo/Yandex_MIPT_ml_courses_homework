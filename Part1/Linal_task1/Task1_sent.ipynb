{
 "cells": [
  {
   "cell_type": "code",
   "execution_count": 109,
   "metadata": {},
   "outputs": [],
   "source": [
    "import re\n",
    "import numpy as np\n",
    "import math\n",
    "import scipy.spatial.distance"
   ]
  },
  {
   "cell_type": "code",
   "execution_count": 121,
   "metadata": {},
   "outputs": [
    {
     "name": "stdout",
     "output_type": "stream",
     "text": [
      "Populating the interactive namespace from numpy and matplotlib\n"
     ]
    },
    {
     "name": "stderr",
     "output_type": "stream",
     "text": [
      "c:\\users\\cohan\\appdata\\local\\programs\\python\\python37\\lib\\site-packages\\IPython\\core\\magics\\pylab.py:160: UserWarning: pylab import has clobbered these variables: ['e']\n",
      "`%matplotlib` prevents importing * from pylab and numpy\n",
      "  \"\\n`%matplotlib` prevents importing * from pylab and numpy\"\n"
     ]
    }
   ],
   "source": [
    "import matplotlib as mpl\n",
    "import matplotlib.pyplot as plt\n",
    "\n",
    "%pylab inline"
   ]
  },
  {
   "cell_type": "markdown",
   "metadata": {},
   "source": [
    "## Задание 1"
   ]
  },
  {
   "cell_type": "code",
   "execution_count": 80,
   "metadata": {},
   "outputs": [
    {
     "name": "stdout",
     "output_type": "stream",
     "text": [
      "0 In comparison to dogs, cats have not undergone major changes during the domestication process.\n",
      "\n",
      "1 As cat simply catenates streams of bytes, it can be also used to concatenate binary files, where it will just concatenate sequence of bytes.\n",
      "\n",
      "2 A common interactive use of cat for a single file is to output the content of a file to standard output.\n",
      "\n",
      "3 Cats can hear sounds too faint or too high in frequency for human ears, such as those made by mice and other small animals.\n",
      "\n",
      "4 In one, people deliberately tamed cats in a process of artificial selection, as they were useful predators of vermin.\n",
      "\n",
      "5 The domesticated cat and its closest wild ancestor are both diploid organisms that possess 38 chromosomes and roughly 20,000 genes.\n",
      "\n",
      "6 Domestic cats are similar in size to the other members of the genus Felis, typically weighing between 4 and 5 kg (8.8 and 11.0 lb).\n",
      "\n",
      "7 However, if the output is piped or redirected, cat is unnecessary.\n",
      "\n",
      "8 cat with one named file is safer where human error is a concern - one wrong use of the default redirection symbol \">\" instead of \"<\" (often adjacent on keyboards) may permanently delete the file you were just needing to read.\n",
      "\n",
      "9 In terms of legibility, a sequence of commands starting with cat and connected by pipes has a clear left-to-right flow of information.\n",
      "\n",
      "10 Cat command is one of the basic commands that you learned when you started in the Unix / Linux world.\n",
      "\n",
      "11 Using cat command, the lines received from stdin can be redirected to a new file using redirection symbols.\n",
      "\n",
      "12 When you type simply cat command without any arguments, it just receives the stdin content and displays it in the stdout.\n",
      "\n",
      "13 Leopard was released on October 26, 2007 as the successor of Tiger (version 10.4), and is available in two editions.\n",
      "\n",
      "14 According to Apple, Leopard contains over 300 changes and enhancements over its predecessor, Mac OS X Tiger.\n",
      "\n",
      "15 As of Mid 2010, some Apple computers have firmware factory installed which will no longer allow installation of Mac OS X Leopard.\n",
      "\n",
      "16 Since Apple moved to using Intel processors in their computers, the OSx86 community has developed and now also allows Mac OS X Tiger and later releases to be installed on non-Apple x86-based computers.\n",
      "\n",
      "17 OS X Mountain Lion was released on July 25, 2012 for purchase and download through Apple's Mac App Store, as part of a switch to releasing OS X versions online and every year.\n",
      "\n",
      "18 Apple has released a small patch for the three most recent versions of Safari running on OS X Yosemite, Mavericks, and Mountain Lion.\n",
      "\n",
      "19 The Mountain Lion release marks the second time Apple has offered an incremental upgrade, rather than releasing a new cat entirely.\n",
      "\n",
      "20 Mac OS X Mountain Lion installs in place, so you won't need to create a separate disk or run the installation off an external drive.\n",
      "\n",
      "21 The fifth major update to Mac OS X, Leopard, contains such a mountain of features - more than 300 by Apple's count.\n",
      "\n"
     ]
    }
   ],
   "source": [
    "with open('sentences.txt') as r:\n",
    "    n = 0\n",
    "    for line in r:\n",
    "        print(n, line)\n",
    "        n += 1"
   ]
  },
  {
   "cell_type": "code",
   "execution_count": 69,
   "metadata": {},
   "outputs": [
    {
     "name": "stdout",
     "output_type": "stream",
     "text": [
      "[[1. 1. 1. ... 0. 0. 0.]\n",
      " [0. 0. 1. ... 0. 0. 0.]\n",
      " [0. 0. 2. ... 0. 0. 0.]\n",
      " ...\n",
      " [0. 0. 0. ... 0. 0. 0.]\n",
      " [1. 0. 1. ... 0. 0. 0.]\n",
      " [0. 0. 1. ... 1. 1. 1.]]\n",
      "(22, 254)\n"
     ]
    }
   ],
   "source": [
    "m = np.zeros((22, 254))\n",
    "\n",
    "with open('sentences.txt') as r:\n",
    "    list_of_words = []\n",
    "    for line in r:\n",
    "        line = line.lower()\n",
    "        splined_line = [l for l in re.split('[^a-z]', line) if l != '']\n",
    "        for word in splined_line:\n",
    "            if word in list_of_words:\n",
    "                continue\n",
    "            else:\n",
    "                list_of_words.append(word)\n",
    "    r.seek(0)\n",
    "    i = 0\n",
    "    for line in r:\n",
    "        line = line.lower()\n",
    "        splined_line = [l for l in re.split('[^a-z]', line) if l != '']\n",
    "        words_in_line = {}\n",
    "        for word in splined_line:\n",
    "            if word in words_in_line:\n",
    "                words_in_line[word] += 1\n",
    "            else:\n",
    "                words_in_line[word] = 1\n",
    "        for j, word in enumerate(list_of_words):\n",
    "            if word in words_in_line:\n",
    "                m[i][j] = words_in_line[word]\n",
    "        i += 1\n",
    "m"
   ]
  },
  {
   "cell_type": "code",
   "execution_count": 196,
   "metadata": {},
   "outputs": [
    {
     "name": "stdout",
     "output_type": "stream",
     "text": [
      "Distance from 0 to 1 is: 0.953\n",
      "Distance from 0 to 2 is: 0.864\n",
      "Distance from 0 to 3 is: 0.895\n",
      "Distance from 0 to 4 is: 0.777\n",
      "Distance from 0 to 5 is: 0.94\n",
      "Distance from 0 to 6 is: 0.733\n",
      "Distance from 0 to 7 is: 0.926\n",
      "Distance from 0 to 8 is: 0.884\n",
      "Distance from 0 to 9 is: 0.906\n",
      "Distance from 0 to 10 is: 0.833\n",
      "Distance from 0 to 11 is: 0.88\n",
      "Distance from 0 to 12 is: 0.84\n",
      "Distance from 0 to 13 is: 0.87\n",
      "Distance from 0 to 14 is: 0.874\n",
      "Distance from 0 to 15 is: 0.944\n",
      "Distance from 0 to 16 is: 0.841\n",
      "Distance from 0 to 17 is: 0.957\n",
      "Distance from 0 to 18 is: 0.944\n",
      "Distance from 0 to 19 is: 0.889\n",
      "Distance from 0 to 20 is: 0.843\n",
      "Distance from 0 to 21 is: 0.825\n",
      "6 4\n"
     ]
    }
   ],
   "source": [
    "best = 0\n",
    "second_best = 0\n",
    "minimal = 1\n",
    "for i in range(1, m.shape[0]):\n",
    "    dist = scipy.spatial.distance.cosine(m[0, :], m[i, :]) \n",
    "    if dist < minimal:\n",
    "        second_best = best\n",
    "        best = i\n",
    "        minimal = dist\n",
    "    print('Distance from 0 to {} is: {}'.format(i, round(dist, 3)))    \n",
    "print(best, second_best)"
   ]
  },
  {
   "cell_type": "code",
   "execution_count": 195,
   "metadata": {},
   "outputs": [],
   "source": [
    "scipy.spatial.distance.cosine?"
   ]
  },
  {
   "cell_type": "code",
   "execution_count": 101,
   "metadata": {},
   "outputs": [],
   "source": [
    "with open('answer1.txt', 'w') as w:\n",
    "    w.write(str(best) + ' ' + str(second_best))"
   ]
  },
  {
   "cell_type": "markdown",
   "metadata": {},
   "source": [
    "## Задание 2"
   ]
  },
  {
   "cell_type": "code",
   "execution_count": 166,
   "metadata": {},
   "outputs": [],
   "source": [
    "def function(x):\n",
    "    return np.sin(x / 5) * np.exp(x / 10) + 5 * np.exp(-x / 2)"
   ]
  },
  {
   "cell_type": "code",
   "execution_count": 168,
   "metadata": {},
   "outputs": [
    {
     "name": "stdout",
     "output_type": "stream",
     "text": [
      "3.252216865271419 0.6352214195786656\n"
     ]
    }
   ],
   "source": [
    "y1 = function(1)\n",
    "y2 = function(15)\n",
    "print(y1, y2)"
   ]
  },
  {
   "cell_type": "code",
   "execution_count": 186,
   "metadata": {},
   "outputs": [
    {
     "name": "stdout",
     "output_type": "stream",
     "text": [
      "True\n",
      "False\n"
     ]
    }
   ],
   "source": [
    "print(a * 1 + b == y1)\n",
    "print(a * 15 + b == y2)"
   ]
  },
  {
   "cell_type": "code",
   "execution_count": 163,
   "metadata": {},
   "outputs": [],
   "source": [
    "a = y1 - b\n",
    "(y1 - b) * 15 + b = y2\n",
    "y1*15 - b*15 + b = y2\n",
    "y1*15 - y2 = b*15 - b\n",
    "y1*15 - y2 =b*14\n",
    "(y1*15 - y2)/14 = b"
   ]
  },
  {
   "cell_type": "code",
   "execution_count": 181,
   "metadata": {},
   "outputs": [
    {
     "data": {
      "text/plain": [
       "3.4391451113923304"
      ]
     },
     "execution_count": 181,
     "metadata": {},
     "output_type": "execute_result"
    }
   ],
   "source": [
    "b = (y1*15 - y2)/14\n",
    "b"
   ]
  },
  {
   "cell_type": "code",
   "execution_count": 182,
   "metadata": {},
   "outputs": [
    {
     "data": {
      "text/plain": [
       "-0.1869282461209112"
      ]
     },
     "execution_count": 182,
     "metadata": {},
     "output_type": "execute_result"
    }
   ],
   "source": [
    "a = y1 - b\n",
    "a"
   ]
  },
  {
   "cell_type": "code",
   "execution_count": 188,
   "metadata": {},
   "outputs": [
    {
     "name": "stdout",
     "output_type": "stream",
     "text": [
      "-0.1869282461209112 3.4391451113923304\n"
     ]
    }
   ],
   "source": [
    "print(a, b)"
   ]
  },
  {
   "cell_type": "code",
   "execution_count": 178,
   "metadata": {},
   "outputs": [],
   "source": [
    "x = np.array([[1, 1], [15, 1]])\n",
    "y = np.array([function(1), function(15)])\n",
    "a = np.linalg.solve(x, y)"
   ]
  },
  {
   "cell_type": "code",
   "execution_count": 179,
   "metadata": {},
   "outputs": [
    {
     "data": {
      "text/plain": [
       "array([-0.18692825,  3.43914511])"
      ]
     },
     "execution_count": 179,
     "metadata": {},
     "output_type": "execute_result"
    }
   ],
   "source": [
    "a"
   ]
  },
  {
   "cell_type": "code",
   "execution_count": 146,
   "metadata": {},
   "outputs": [
    {
     "data": {
      "text/plain": [
       "array([[-0.18692825,  1.        ],\n",
       "       [ 3.43914511,  1.        ]])"
      ]
     },
     "execution_count": 146,
     "metadata": {},
     "output_type": "execute_result"
    }
   ],
   "source": [
    "np.array([a, [1., 1.]]).T"
   ]
  },
  {
   "cell_type": "code",
   "execution_count": 189,
   "metadata": {
    "scrolled": true
   },
   "outputs": [
    {
     "data": {
      "text/plain": [
       "[<matplotlib.lines.Line2D at 0x1a55ca583c8>]"
      ]
     },
     "execution_count": 189,
     "metadata": {},
     "output_type": "execute_result"
    },
    {
     "data": {
      "image/png": "[encoded data removed]",
      "text/plain": [
       "<Figure size 432x288 with 1 Axes>"
      ]
     },
     "metadata": {
      "needs_background": "light"
     },
     "output_type": "display_data"
    }
   ],
   "source": [
    "X = np.linspace(0, 16)\n",
    "Y = function(X)\n",
    "Y2 = round(a, 3)*X + round(b,3)\n",
    "\n",
    "\n",
    "fig, ax = plt.subplots()\n",
    "ax.grid()\n",
    "ax.plot(X, Y)\n",
    "ax.plot(X, Y2)"
   ]
  },
  {
   "cell_type": "code",
   "execution_count": 191,
   "metadata": {},
   "outputs": [],
   "source": [
    "x = np.array([[1, 1, 1, 1], [1, 4, 16, 16*4], [1, 10, 100, 1000], [1, 15, 15*15, 15**3]])\n",
    "y = np.array([function(1), function(4), function(10), function(15)])\n",
    "a = np.linalg.solve(x, y)"
   ]
  },
  {
   "cell_type": "code",
   "execution_count": 194,
   "metadata": {},
   "outputs": [
    {
     "data": {
      "text/plain": [
       "array([ 4.36, -1.3 ,  0.19, -0.01])"
      ]
     },
     "execution_count": 194,
     "metadata": {},
     "output_type": "execute_result"
    }
   ],
   "source": [
    "a.round(2)"
   ]
  },
  {
   "cell_type": "code",
   "execution_count": null,
   "metadata": {},
   "outputs": [],
   "source": []
  },
  {
   "cell_type": "code",
   "execution_count": null,
   "metadata": {},
   "outputs": [],
   "source": []
  },
  {
   "cell_type": "code",
   "execution_count": null,
   "metadata": {},
   "outputs": [],
   "source": []
  }
 ],
 "metadata": {
  "kernelspec": {
   "display_name": "Python 3",
   "language": "python",
   "name": "python3"
  },
  "language_info": {
   "codemirror_mode": {
    "name": "ipython",
    "version": 3
   },
   "file_extension": ".py",
   "mimetype": "text/x-python",
   "name": "python",
   "nbconvert_exporter": "python",
   "pygments_lexer": "ipython3",
   "version": "3.7.6"
  }
 },
 "nbformat": 4,
 "nbformat_minor": 4
}
