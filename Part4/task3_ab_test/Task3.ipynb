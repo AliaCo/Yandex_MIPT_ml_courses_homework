{
 "cells": [
  {
   "cell_type": "code",
   "execution_count": 321,
   "metadata": {},
   "outputs": [],
   "source": [
    "import pandas as pd\n",
    "import numpy as np\n",
    "import scipy.stats as st\n",
    "from statsmodels.sandbox.stats.multicomp import multipletests"
   ]
  },
  {
   "cell_type": "code",
   "execution_count": 322,
   "metadata": {},
   "outputs": [],
   "source": [
    "import seaborn as sns\n",
    "import matplotlib.pyplot as plt\n",
    "\n",
    "%matplotlib inline"
   ]
  },
  {
   "cell_type": "code",
   "execution_count": 323,
   "metadata": {},
   "outputs": [],
   "source": [
    "browser = pd.read_csv('ab_browser_test.csv')"
   ]
  },
  {
   "cell_type": "markdown",
   "metadata": {},
   "source": [
    "* userID:  уникальный идентификатор пользователя\n",
    "* browser:  браузер, который использовал userID\n",
    "* slot: в каком статусе пользователь участвовал в исследовании (exp = видел измененную страницу, control = видел неизменную страницу)\n",
    "* n_clicks: количество кликов, которые пользоваль совершил за n_queries\n",
    "* n_queries: количество запросов, который совершил userID, пользуясь браузером browser\n",
    "* n_nonclk_queries: количество запросов пользователя, в которых  им не было совершено ни одного клика"
   ]
  },
  {
   "cell_type": "code",
   "execution_count": 324,
   "metadata": {
    "scrolled": true
   },
   "outputs": [
    {
     "data": {
      "text/html": [
       "<div>\n",
       "<style scoped>\n",
       "    .dataframe tbody tr th:only-of-type {\n",
       "        vertical-align: middle;\n",
       "    }\n",
       "\n",
       "    .dataframe tbody tr th {\n",
       "        vertical-align: top;\n",
       "    }\n",
       "\n",
       "    .dataframe thead th {\n",
       "        text-align: right;\n",
       "    }\n",
       "</style>\n",
       "<table border=\"1\" class=\"dataframe\">\n",
       "  <thead>\n",
       "    <tr style=\"text-align: right;\">\n",
       "      <th></th>\n",
       "      <th>userID</th>\n",
       "      <th>browser</th>\n",
       "      <th>slot</th>\n",
       "      <th>n_clicks</th>\n",
       "      <th>n_queries</th>\n",
       "      <th>n_nonclk_queries</th>\n",
       "    </tr>\n",
       "  </thead>\n",
       "  <tbody>\n",
       "    <tr>\n",
       "      <th>0</th>\n",
       "      <td>1</td>\n",
       "      <td>Browser #2</td>\n",
       "      <td>exp</td>\n",
       "      <td>23</td>\n",
       "      <td>32</td>\n",
       "      <td>19</td>\n",
       "    </tr>\n",
       "    <tr>\n",
       "      <th>1</th>\n",
       "      <td>3</td>\n",
       "      <td>Browser #4</td>\n",
       "      <td>exp</td>\n",
       "      <td>3</td>\n",
       "      <td>4</td>\n",
       "      <td>2</td>\n",
       "    </tr>\n",
       "    <tr>\n",
       "      <th>2</th>\n",
       "      <td>5</td>\n",
       "      <td>Browser #4</td>\n",
       "      <td>exp</td>\n",
       "      <td>29</td>\n",
       "      <td>35</td>\n",
       "      <td>16</td>\n",
       "    </tr>\n",
       "    <tr>\n",
       "      <th>3</th>\n",
       "      <td>6</td>\n",
       "      <td>Browser #4</td>\n",
       "      <td>control</td>\n",
       "      <td>12</td>\n",
       "      <td>6</td>\n",
       "      <td>0</td>\n",
       "    </tr>\n",
       "    <tr>\n",
       "      <th>4</th>\n",
       "      <td>7</td>\n",
       "      <td>Browser #4</td>\n",
       "      <td>exp</td>\n",
       "      <td>54</td>\n",
       "      <td>68</td>\n",
       "      <td>30</td>\n",
       "    </tr>\n",
       "  </tbody>\n",
       "</table>\n",
       "</div>"
      ],
      "text/plain": [
       "   userID     browser     slot  n_clicks  n_queries  n_nonclk_queries\n",
       "0       1  Browser #2      exp        23         32                19\n",
       "1       3  Browser #4      exp         3          4                 2\n",
       "2       5  Browser #4      exp        29         35                16\n",
       "3       6  Browser #4  control        12          6                 0\n",
       "4       7  Browser #4      exp        54         68                30"
      ]
     },
     "execution_count": 324,
     "metadata": {},
     "output_type": "execute_result"
    }
   ],
   "source": [
    "browser.head()"
   ]
  },
  {
   "cell_type": "code",
   "execution_count": 325,
   "metadata": {},
   "outputs": [
    {
     "data": {
      "text/plain": [
       "(566134, 6)"
      ]
     },
     "execution_count": 325,
     "metadata": {},
     "output_type": "execute_result"
    }
   ],
   "source": [
    "browser.shape"
   ]
  },
  {
   "cell_type": "code",
   "execution_count": 6,
   "metadata": {},
   "outputs": [
    {
     "data": {
      "text/html": [
       "<div>\n",
       "<style scoped>\n",
       "    .dataframe tbody tr th:only-of-type {\n",
       "        vertical-align: middle;\n",
       "    }\n",
       "\n",
       "    .dataframe tbody tr th {\n",
       "        vertical-align: top;\n",
       "    }\n",
       "\n",
       "    .dataframe thead th {\n",
       "        text-align: right;\n",
       "    }\n",
       "</style>\n",
       "<table border=\"1\" class=\"dataframe\">\n",
       "  <thead>\n",
       "    <tr style=\"text-align: right;\">\n",
       "      <th></th>\n",
       "      <th>userID</th>\n",
       "      <th>n_clicks</th>\n",
       "      <th>n_queries</th>\n",
       "      <th>n_nonclk_queries</th>\n",
       "    </tr>\n",
       "  </thead>\n",
       "  <tbody>\n",
       "    <tr>\n",
       "      <th>count</th>\n",
       "      <td>566134.000000</td>\n",
       "      <td>566134.000000</td>\n",
       "      <td>566134.000000</td>\n",
       "      <td>566134.000000</td>\n",
       "    </tr>\n",
       "    <tr>\n",
       "      <th>mean</th>\n",
       "      <td>301377.214027</td>\n",
       "      <td>11.431658</td>\n",
       "      <td>10.720524</td>\n",
       "      <td>4.703987</td>\n",
       "    </tr>\n",
       "    <tr>\n",
       "      <th>std</th>\n",
       "      <td>175526.333101</td>\n",
       "      <td>20.251494</td>\n",
       "      <td>16.262827</td>\n",
       "      <td>8.109958</td>\n",
       "    </tr>\n",
       "    <tr>\n",
       "      <th>min</th>\n",
       "      <td>1.000000</td>\n",
       "      <td>0.000000</td>\n",
       "      <td>1.000000</td>\n",
       "      <td>0.000000</td>\n",
       "    </tr>\n",
       "    <tr>\n",
       "      <th>25%</th>\n",
       "      <td>148627.250000</td>\n",
       "      <td>1.000000</td>\n",
       "      <td>2.000000</td>\n",
       "      <td>1.000000</td>\n",
       "    </tr>\n",
       "    <tr>\n",
       "      <th>50%</th>\n",
       "      <td>299362.500000</td>\n",
       "      <td>4.000000</td>\n",
       "      <td>5.000000</td>\n",
       "      <td>2.000000</td>\n",
       "    </tr>\n",
       "    <tr>\n",
       "      <th>75%</th>\n",
       "      <td>455698.750000</td>\n",
       "      <td>13.000000</td>\n",
       "      <td>13.000000</td>\n",
       "      <td>6.000000</td>\n",
       "    </tr>\n",
       "    <tr>\n",
       "      <th>max</th>\n",
       "      <td>603137.000000</td>\n",
       "      <td>863.000000</td>\n",
       "      <td>665.000000</td>\n",
       "      <td>581.000000</td>\n",
       "    </tr>\n",
       "  </tbody>\n",
       "</table>\n",
       "</div>"
      ],
      "text/plain": [
       "              userID       n_clicks      n_queries  n_nonclk_queries\n",
       "count  566134.000000  566134.000000  566134.000000     566134.000000\n",
       "mean   301377.214027      11.431658      10.720524          4.703987\n",
       "std    175526.333101      20.251494      16.262827          8.109958\n",
       "min         1.000000       0.000000       1.000000          0.000000\n",
       "25%    148627.250000       1.000000       2.000000          1.000000\n",
       "50%    299362.500000       4.000000       5.000000          2.000000\n",
       "75%    455698.750000      13.000000      13.000000          6.000000\n",
       "max    603137.000000     863.000000     665.000000        581.000000"
      ]
     },
     "execution_count": 6,
     "metadata": {},
     "output_type": "execute_result"
    }
   ],
   "source": [
    "browser.describe()"
   ]
  },
  {
   "cell_type": "code",
   "execution_count": 7,
   "metadata": {},
   "outputs": [
    {
     "data": {
      "text/html": [
       "<div>\n",
       "<style scoped>\n",
       "    .dataframe tbody tr th:only-of-type {\n",
       "        vertical-align: middle;\n",
       "    }\n",
       "\n",
       "    .dataframe tbody tr th {\n",
       "        vertical-align: top;\n",
       "    }\n",
       "\n",
       "    .dataframe thead th {\n",
       "        text-align: right;\n",
       "    }\n",
       "</style>\n",
       "<table border=\"1\" class=\"dataframe\">\n",
       "  <thead>\n",
       "    <tr style=\"text-align: right;\">\n",
       "      <th></th>\n",
       "      <th>browser</th>\n",
       "      <th>slot</th>\n",
       "    </tr>\n",
       "  </thead>\n",
       "  <tbody>\n",
       "    <tr>\n",
       "      <th>count</th>\n",
       "      <td>566134</td>\n",
       "      <td>566134</td>\n",
       "    </tr>\n",
       "    <tr>\n",
       "      <th>unique</th>\n",
       "      <td>6</td>\n",
       "      <td>2</td>\n",
       "    </tr>\n",
       "    <tr>\n",
       "      <th>top</th>\n",
       "      <td>Browser #4</td>\n",
       "      <td>control</td>\n",
       "    </tr>\n",
       "    <tr>\n",
       "      <th>freq</th>\n",
       "      <td>156833</td>\n",
       "      <td>284554</td>\n",
       "    </tr>\n",
       "  </tbody>\n",
       "</table>\n",
       "</div>"
      ],
      "text/plain": [
       "           browser     slot\n",
       "count       566134   566134\n",
       "unique           6        2\n",
       "top     Browser #4  control\n",
       "freq        156833   284554"
      ]
     },
     "execution_count": 7,
     "metadata": {},
     "output_type": "execute_result"
    }
   ],
   "source": [
    "browser.describe(include='object')"
   ]
  },
  {
   "cell_type": "code",
   "execution_count": 8,
   "metadata": {},
   "outputs": [
    {
     "data": {
      "text/plain": [
       "control    284554\n",
       "exp        281580\n",
       "Name: slot, dtype: int64"
      ]
     },
     "execution_count": 8,
     "metadata": {},
     "output_type": "execute_result"
    }
   ],
   "source": [
    "browser['slot'].value_counts()"
   ]
  },
  {
   "cell_type": "code",
   "execution_count": 21,
   "metadata": {},
   "outputs": [
    {
     "data": {
      "text/html": [
       "<div>\n",
       "<style scoped>\n",
       "    .dataframe tbody tr th:only-of-type {\n",
       "        vertical-align: middle;\n",
       "    }\n",
       "\n",
       "    .dataframe tbody tr th {\n",
       "        vertical-align: top;\n",
       "    }\n",
       "\n",
       "    .dataframe thead th {\n",
       "        text-align: right;\n",
       "    }\n",
       "</style>\n",
       "<table border=\"1\" class=\"dataframe\">\n",
       "  <thead>\n",
       "    <tr style=\"text-align: right;\">\n",
       "      <th></th>\n",
       "      <th>n_clicks</th>\n",
       "    </tr>\n",
       "    <tr>\n",
       "      <th>slot</th>\n",
       "      <th></th>\n",
       "    </tr>\n",
       "  </thead>\n",
       "  <tbody>\n",
       "    <tr>\n",
       "      <th>control</th>\n",
       "      <td>3210027</td>\n",
       "    </tr>\n",
       "    <tr>\n",
       "      <th>exp</th>\n",
       "      <td>3261823</td>\n",
       "    </tr>\n",
       "  </tbody>\n",
       "</table>\n",
       "</div>"
      ],
      "text/plain": [
       "         n_clicks\n",
       "slot             \n",
       "control   3210027\n",
       "exp       3261823"
      ]
     },
     "execution_count": 21,
     "metadata": {},
     "output_type": "execute_result"
    }
   ],
   "source": [
    "sum_of_clicks = browser.groupby('slot').agg({'n_clicks' : 'sum'})\n",
    "sum_of_clicks"
   ]
  },
  {
   "cell_type": "code",
   "execution_count": 20,
   "metadata": {},
   "outputs": [
    {
     "data": {
      "text/plain": [
       "n_clicks    101.614\n",
       "dtype: float64"
      ]
     },
     "execution_count": 20,
     "metadata": {},
     "output_type": "execute_result"
    }
   ],
   "source": [
    "persent_cl = sum_of_clicks.loc['exp'] / sum_of_clicks.loc['control'] * 100\n",
    "persent_cl.round(3) "
   ]
  },
  {
   "cell_type": "code",
   "execution_count": 326,
   "metadata": {},
   "outputs": [
    {
     "data": {
      "text/plain": [
       "n_clicks    1.614\n",
       "dtype: float64"
      ]
     },
     "execution_count": 326,
     "metadata": {},
     "output_type": "execute_result"
    }
   ],
   "source": [
    "(persent_cl - 100).round(3) "
   ]
  },
  {
   "cell_type": "code",
   "execution_count": 22,
   "metadata": {},
   "outputs": [],
   "source": [
    "control_click = browser[browser['slot'] == 'control']['n_clicks'].values\n",
    "exp_click = browser[browser['slot'] == 'exp']['n_clicks'].values"
   ]
  },
  {
   "cell_type": "code",
   "execution_count": 65,
   "metadata": {},
   "outputs": [],
   "source": [
    "def bootstrap(data, samples):\n",
    "    n = np.random.randint(0, len(data), size = (samples, len(data)))\n",
    "    samples = data[n]\n",
    "    return samples    \n",
    "\n",
    "def stat_intervals(stat, alpha):\n",
    "    boundaries = np.percentile(stat, [100 * alpha / 2., 100 * (1 - alpha / 2.)])\n",
    "    return boundaries"
   ]
  },
  {
   "cell_type": "code",
   "execution_count": 68,
   "metadata": {},
   "outputs": [],
   "source": [
    "mean_control_click = list(map(np.mean, bootstrap(control_click, 1000)))\n",
    "mean_exp_click = list(map(np.mean, bootstrap(exp_click, 1000)))\n",
    "median_control_click = list(map(np.median, bootstrap(control_click, 1000)))\n",
    "median_exp_click = list(map(np.median, bootstrap(exp_click, 1000)))"
   ]
  },
  {
   "cell_type": "code",
   "execution_count": 69,
   "metadata": {},
   "outputs": [
    {
     "name": "stdout",
     "output_type": "stream",
     "text": [
      "bootstrap intervals for mean control clicks: [11.20187161 11.35377731]\n",
      "bootstrap intervals for mean exp. clicks: [11.50520545 11.65614399]\n",
      "bootstrap intervals for median control clicks: [4. 4.]\n",
      "bootstrap intervals for median exp. clicks: [5. 5.]\n"
     ]
    }
   ],
   "source": [
    "print('bootstrap intervals for mean control clicks: {}'.format(stat_intervals(mean_control_click, 0.05)))\n",
    "print('bootstrap intervals for mean exp. clicks: {}'.format(stat_intervals(mean_exp_click, 0.05)))\n",
    "print('bootstrap intervals for median control clicks: {}'.format(stat_intervals(median_control_click, 0.05)))\n",
    "print('bootstrap intervals for median exp. clicks: {}'.format(stat_intervals(median_exp_click, 0.05)))"
   ]
  },
  {
   "cell_type": "code",
   "execution_count": 73,
   "metadata": {},
   "outputs": [],
   "source": [
    "delta_mean_scores = list(map(lambda x: x[0] - x[1], zip(mean_exp_click, mean_control_click)))\n",
    "delta_median_scores = list(map(lambda x: x[0] - x[1], zip(median_exp_click, median_control_click)))"
   ]
  },
  {
   "cell_type": "code",
   "execution_count": 75,
   "metadata": {},
   "outputs": [
    {
     "name": "stdout",
     "output_type": "stream",
     "text": [
      "bootstrap delta for means: [0.19969191 0.40682606]\n",
      "bootstrap delta for medians: [1. 1.]\n"
     ]
    }
   ],
   "source": [
    "print('bootstrap delta for means: {}'.format(stat_intervals(delta_mean_scores, 0.05)))\n",
    "print('bootstrap delta for medians: {}'.format(stat_intervals(delta_median_scores, 0.05)))"
   ]
  },
  {
   "cell_type": "code",
   "execution_count": 94,
   "metadata": {},
   "outputs": [
    {
     "data": {
      "text/plain": [
       "<matplotlib.axes._subplots.AxesSubplot at 0x21a6c083548>"
      ]
     },
     "execution_count": 94,
     "metadata": {},
     "output_type": "execute_result"
    },
    {
     "data": {
      "image/png": "[encoded data removed]",
      "text/plain": [
       "<Figure size 432x288 with 1 Axes>"
      ]
     },
     "metadata": {
      "needs_background": "light"
     },
     "output_type": "display_data"
    }
   ],
   "source": [
    "sns.histplot(exp_click, binwidth=30, color='red')"
   ]
  },
  {
   "cell_type": "code",
   "execution_count": 93,
   "metadata": {},
   "outputs": [
    {
     "data": {
      "text/plain": [
       "<matplotlib.axes._subplots.AxesSubplot at 0x21a12639208>"
      ]
     },
     "execution_count": 93,
     "metadata": {},
     "output_type": "execute_result"
    },
    {
     "data": {
      "image/png": "[encoded data removed]",
      "text/plain": [
       "<Figure size 432x288 with 1 Axes>"
      ]
     },
     "metadata": {
      "needs_background": "light"
     },
     "output_type": "display_data"
    }
   ],
   "source": [
    "sns.histplot(control_click, binwidth=30)"
   ]
  },
  {
   "cell_type": "code",
   "execution_count": 233,
   "metadata": {},
   "outputs": [
    {
     "name": "stdout",
     "output_type": "stream",
     "text": [
      "Wall time: 9.06 s\n"
     ]
    }
   ],
   "source": [
    "%%time\n",
    "np.random.seed(0)\n",
    "control_boot_chi_squared = list(map(lambda x: [np.mean(x), np.var(x, ddof=1)], \\\n",
    "                                    bootstrap(control_click, 500)))"
   ]
  },
  {
   "cell_type": "code",
   "execution_count": 234,
   "metadata": {},
   "outputs": [],
   "source": [
    "means = np.array(control_boot_chi_squared)[:, 0]"
   ]
  },
  {
   "cell_type": "code",
   "execution_count": 235,
   "metadata": {},
   "outputs": [],
   "source": [
    "var = np.array(control_boot_chi_squared)[:, 1]"
   ]
  },
  {
   "cell_type": "code",
   "execution_count": 236,
   "metadata": {},
   "outputs": [
    {
     "data": {
      "text/plain": [
       "((array([-2.99209858e+00, -2.71015927e+00, -2.55162541e+00, -2.43921385e+00,\n",
       "         -2.35113311e+00, -2.27822091e+00, -2.21572267e+00, -2.16084152e+00,\n",
       "         -2.11178767e+00, -2.06734403e+00, -2.02664403e+00, -1.98904794e+00,\n",
       "         -1.95406954e+00, -1.92133033e+00, -1.89052965e+00, -1.86142459e+00,\n",
       "         -1.83381593e+00, -1.80753820e+00, -1.78245240e+00, -1.75844061e+00,\n",
       "         -1.73540186e+00, -1.71324904e+00, -1.69190643e+00, -1.67130780e+00,\n",
       "         -1.65139483e+00, -1.63211595e+00, -1.61342528e+00, -1.59528183e+00,\n",
       "         -1.57764883e+00, -1.56049314e+00, -1.54378481e+00, -1.52749667e+00,\n",
       "         -1.51160399e+00, -1.49608418e+00, -1.48091659e+00, -1.46608224e+00,\n",
       "         -1.45156367e+00, -1.43734479e+00, -1.42341071e+00, -1.40974764e+00,\n",
       "         -1.39634279e+00, -1.38318426e+00, -1.37026095e+00, -1.35756253e+00,\n",
       "         -1.34507932e+00, -1.33280226e+00, -1.32072287e+00, -1.30883317e+00,\n",
       "         -1.29712567e+00, -1.28559331e+00, -1.27422944e+00, -1.26302778e+00,\n",
       "         -1.25198239e+00, -1.24108768e+00, -1.23033831e+00, -1.21972926e+00,\n",
       "         -1.20925574e+00, -1.19891322e+00, -1.18869738e+00, -1.17860411e+00,\n",
       "         -1.16862950e+00, -1.15876983e+00, -1.14902154e+00, -1.13938123e+00,\n",
       "         -1.12984566e+00, -1.12041173e+00, -1.11107648e+00, -1.10183707e+00,\n",
       "         -1.09269077e+00, -1.08363498e+00, -1.07466719e+00, -1.06578501e+00,\n",
       "         -1.05698612e+00, -1.04826831e+00, -1.03962946e+00, -1.03106750e+00,\n",
       "         -1.02258046e+00, -1.01416645e+00, -1.00582364e+00, -9.97550247e-01,\n",
       "         -9.89344581e-01, -9.81204996e-01, -9.73129904e-01, -9.65117774e-01,\n",
       "         -9.57167125e-01, -9.49276525e-01, -9.41444591e-01, -9.33669982e-01,\n",
       "         -9.25951403e-01, -9.18287599e-01, -9.10677353e-01, -9.03119487e-01,\n",
       "         -8.95612861e-01, -8.88156365e-01, -8.80748927e-01, -8.73389502e-01,\n",
       "         -8.66077081e-01, -8.58810678e-01, -8.51589342e-01, -8.44412143e-01,\n",
       "         -8.37278180e-01, -8.30186576e-01, -8.23136480e-01, -8.16127061e-01,\n",
       "         -8.09157513e-01, -8.02227049e-01, -7.95334905e-01, -7.88480336e-01,\n",
       "         -7.81662614e-01, -7.74881033e-01, -7.68134903e-01, -7.61423551e-01,\n",
       "         -7.54746322e-01, -7.48102575e-01, -7.41491685e-01, -7.34913044e-01,\n",
       "         -7.28366057e-01, -7.21850142e-01, -7.15364731e-01, -7.08909270e-01,\n",
       "         -7.02483218e-01, -6.96086043e-01, -6.89717230e-01, -6.83376271e-01,\n",
       "         -6.77062670e-01, -6.70775943e-01, -6.64515617e-01, -6.58281226e-01,\n",
       "         -6.52072317e-01, -6.45888445e-01, -6.39729174e-01, -6.33594076e-01,\n",
       "         -6.27482735e-01, -6.21394740e-01, -6.15329690e-01, -6.09287191e-01,\n",
       "         -6.03266856e-01, -5.97268307e-01, -5.91291174e-01, -5.85335090e-01,\n",
       "         -5.79399700e-01, -5.73484651e-01, -5.67589599e-01, -5.61714207e-01,\n",
       "         -5.55858142e-01, -5.50021077e-01, -5.44202692e-01, -5.38402673e-01,\n",
       "         -5.32620709e-01, -5.26856497e-01, -5.21109737e-01, -5.15380136e-01,\n",
       "         -5.09667405e-01, -5.03971258e-01, -4.98291417e-01, -4.92627606e-01,\n",
       "         -4.86979553e-01, -4.81346993e-01, -4.75729663e-01, -4.70127305e-01,\n",
       "         -4.64539663e-01, -4.58966488e-01, -4.53407532e-01, -4.47862553e-01,\n",
       "         -4.42331309e-01, -4.36813566e-01, -4.31309089e-01, -4.25817651e-01,\n",
       "         -4.20339023e-01, -4.14872983e-01, -4.09419311e-01, -4.03977788e-01,\n",
       "         -3.98548202e-01, -3.93130339e-01, -3.87723992e-01, -3.82328953e-01,\n",
       "         -3.76945020e-01, -3.71571992e-01, -3.66209669e-01, -3.60857856e-01,\n",
       "         -3.55516359e-01, -3.50184986e-01, -3.44863547e-01, -3.39551857e-01,\n",
       "         -3.34249730e-01, -3.28956983e-01, -3.23673435e-01, -3.18398908e-01,\n",
       "         -3.13133223e-01, -3.07876207e-01, -3.02627686e-01, -2.97387487e-01,\n",
       "         -2.92155443e-01, -2.86931384e-01, -2.81715143e-01, -2.76506557e-01,\n",
       "         -2.71305462e-01, -2.66111695e-01, -2.60925097e-01, -2.55745509e-01,\n",
       "         -2.50572773e-01, -2.45406732e-01, -2.40247233e-01, -2.35094122e-01,\n",
       "         -2.29947246e-01, -2.24806454e-01, -2.19671596e-01, -2.14542524e-01,\n",
       "         -2.09419090e-01, -2.04301147e-01, -1.99188550e-01, -1.94081154e-01,\n",
       "         -1.88978816e-01, -1.83881393e-01, -1.78788743e-01, -1.73700727e-01,\n",
       "         -1.68617203e-01, -1.63538032e-01, -1.58463078e-01, -1.53392201e-01,\n",
       "         -1.48325265e-01, -1.43262135e-01, -1.38202675e-01, -1.33146749e-01,\n",
       "         -1.28094226e-01, -1.23044970e-01, -1.17998849e-01, -1.12955731e-01,\n",
       "         -1.07915484e-01, -1.02877978e-01, -9.78430801e-02, -9.28106619e-02,\n",
       "         -8.77805930e-02, -8.27527442e-02, -7.77269864e-02, -7.27031911e-02,\n",
       "         -6.76812301e-02, -6.26609755e-02, -5.76422995e-02, -5.26250751e-02,\n",
       "         -4.76091750e-02, -4.25944724e-02, -3.75808407e-02, -3.25681535e-02,\n",
       "         -2.75562846e-02, -2.25451077e-02, -1.75344969e-02, -1.25243263e-02,\n",
       "         -7.51447003e-03, -2.50480239e-03,  2.50480239e-03,  7.51447003e-03,\n",
       "          1.25243263e-02,  1.75344969e-02,  2.25451077e-02,  2.75562846e-02,\n",
       "          3.25681535e-02,  3.75808407e-02,  4.25944724e-02,  4.76091750e-02,\n",
       "          5.26250751e-02,  5.76422995e-02,  6.26609755e-02,  6.76812301e-02,\n",
       "          7.27031911e-02,  7.77269864e-02,  8.27527442e-02,  8.77805930e-02,\n",
       "          9.28106619e-02,  9.78430801e-02,  1.02877978e-01,  1.07915484e-01,\n",
       "          1.12955731e-01,  1.17998849e-01,  1.23044970e-01,  1.28094226e-01,\n",
       "          1.33146749e-01,  1.38202675e-01,  1.43262135e-01,  1.48325265e-01,\n",
       "          1.53392201e-01,  1.58463078e-01,  1.63538032e-01,  1.68617203e-01,\n",
       "          1.73700727e-01,  1.78788743e-01,  1.83881393e-01,  1.88978816e-01,\n",
       "          1.94081154e-01,  1.99188550e-01,  2.04301147e-01,  2.09419090e-01,\n",
       "          2.14542524e-01,  2.19671596e-01,  2.24806454e-01,  2.29947246e-01,\n",
       "          2.35094122e-01,  2.40247233e-01,  2.45406732e-01,  2.50572773e-01,\n",
       "          2.55745509e-01,  2.60925097e-01,  2.66111695e-01,  2.71305462e-01,\n",
       "          2.76506557e-01,  2.81715143e-01,  2.86931384e-01,  2.92155443e-01,\n",
       "          2.97387487e-01,  3.02627686e-01,  3.07876207e-01,  3.13133223e-01,\n",
       "          3.18398908e-01,  3.23673435e-01,  3.28956983e-01,  3.34249730e-01,\n",
       "          3.39551857e-01,  3.44863547e-01,  3.50184986e-01,  3.55516359e-01,\n",
       "          3.60857856e-01,  3.66209669e-01,  3.71571992e-01,  3.76945020e-01,\n",
       "          3.82328953e-01,  3.87723992e-01,  3.93130339e-01,  3.98548202e-01,\n",
       "          4.03977788e-01,  4.09419311e-01,  4.14872983e-01,  4.20339023e-01,\n",
       "          4.25817651e-01,  4.31309089e-01,  4.36813566e-01,  4.42331309e-01,\n",
       "          4.47862553e-01,  4.53407532e-01,  4.58966488e-01,  4.64539663e-01,\n",
       "          4.70127305e-01,  4.75729663e-01,  4.81346993e-01,  4.86979553e-01,\n",
       "          4.92627606e-01,  4.98291417e-01,  5.03971258e-01,  5.09667405e-01,\n",
       "          5.15380136e-01,  5.21109737e-01,  5.26856497e-01,  5.32620709e-01,\n",
       "          5.38402673e-01,  5.44202692e-01,  5.50021077e-01,  5.55858142e-01,\n",
       "          5.61714207e-01,  5.67589599e-01,  5.73484651e-01,  5.79399700e-01,\n",
       "          5.85335090e-01,  5.91291174e-01,  5.97268307e-01,  6.03266856e-01,\n",
       "          6.09287191e-01,  6.15329690e-01,  6.21394740e-01,  6.27482735e-01,\n",
       "          6.33594076e-01,  6.39729174e-01,  6.45888445e-01,  6.52072317e-01,\n",
       "          6.58281226e-01,  6.64515617e-01,  6.70775943e-01,  6.77062670e-01,\n",
       "          6.83376271e-01,  6.89717230e-01,  6.96086043e-01,  7.02483218e-01,\n",
       "          7.08909270e-01,  7.15364731e-01,  7.21850142e-01,  7.28366057e-01,\n",
       "          7.34913044e-01,  7.41491685e-01,  7.48102575e-01,  7.54746322e-01,\n",
       "          7.61423551e-01,  7.68134903e-01,  7.74881033e-01,  7.81662614e-01,\n",
       "          7.88480336e-01,  7.95334905e-01,  8.02227049e-01,  8.09157513e-01,\n",
       "          8.16127061e-01,  8.23136480e-01,  8.30186576e-01,  8.37278180e-01,\n",
       "          8.44412143e-01,  8.51589342e-01,  8.58810678e-01,  8.66077081e-01,\n",
       "          8.73389502e-01,  8.80748927e-01,  8.88156365e-01,  8.95612861e-01,\n",
       "          9.03119487e-01,  9.10677353e-01,  9.18287599e-01,  9.25951403e-01,\n",
       "          9.33669982e-01,  9.41444591e-01,  9.49276525e-01,  9.57167125e-01,\n",
       "          9.65117774e-01,  9.73129904e-01,  9.81204996e-01,  9.89344581e-01,\n",
       "          9.97550247e-01,  1.00582364e+00,  1.01416645e+00,  1.02258046e+00,\n",
       "          1.03106750e+00,  1.03962946e+00,  1.04826831e+00,  1.05698612e+00,\n",
       "          1.06578501e+00,  1.07466719e+00,  1.08363498e+00,  1.09269077e+00,\n",
       "          1.10183707e+00,  1.11107648e+00,  1.12041173e+00,  1.12984566e+00,\n",
       "          1.13938123e+00,  1.14902154e+00,  1.15876983e+00,  1.16862950e+00,\n",
       "          1.17860411e+00,  1.18869738e+00,  1.19891322e+00,  1.20925574e+00,\n",
       "          1.21972926e+00,  1.23033831e+00,  1.24108768e+00,  1.25198239e+00,\n",
       "          1.26302778e+00,  1.27422944e+00,  1.28559331e+00,  1.29712567e+00,\n",
       "          1.30883317e+00,  1.32072287e+00,  1.33280226e+00,  1.34507932e+00,\n",
       "          1.35756253e+00,  1.37026095e+00,  1.38318426e+00,  1.39634279e+00,\n",
       "          1.40974764e+00,  1.42341071e+00,  1.43734479e+00,  1.45156367e+00,\n",
       "          1.46608224e+00,  1.48091659e+00,  1.49608418e+00,  1.51160399e+00,\n",
       "          1.52749667e+00,  1.54378481e+00,  1.56049314e+00,  1.57764883e+00,\n",
       "          1.59528183e+00,  1.61342528e+00,  1.63211595e+00,  1.65139483e+00,\n",
       "          1.67130780e+00,  1.69190643e+00,  1.71324904e+00,  1.73540186e+00,\n",
       "          1.75844061e+00,  1.78245240e+00,  1.80753820e+00,  1.83381593e+00,\n",
       "          1.86142459e+00,  1.89052965e+00,  1.92133033e+00,  1.95406954e+00,\n",
       "          1.98904794e+00,  2.02664403e+00,  2.06734403e+00,  2.11178767e+00,\n",
       "          2.16084152e+00,  2.21572267e+00,  2.27822091e+00,  2.35113311e+00,\n",
       "          2.43921385e+00,  2.55162541e+00,  2.71015927e+00,  2.99209858e+00]),\n",
       "  array([11.1824434 , 11.18473822, 11.18830521, 11.19382261, 11.20258369,\n",
       "         11.20325492, 11.20355363, 11.20505423, 11.20609094, 11.20625611,\n",
       "         11.2079043 , 11.21138343, 11.21287699, 11.21341468, 11.2142827 ,\n",
       "         11.21573761, 11.21579735, 11.21644749, 11.21674621, 11.21906563,\n",
       "         11.21948031, 11.21979308, 11.22034833, 11.22213007, 11.22245338,\n",
       "         11.22327924, 11.22662131, 11.22713439, 11.22731011, 11.22771776,\n",
       "         11.22815002, 11.22822382, 11.2283187 , 11.22885287, 11.22957681,\n",
       "         11.22997744, 11.23038158, 11.23081032, 11.23154129, 11.23157292,\n",
       "         11.23189623, 11.23309108, 11.23465845, 11.23483065, 11.23608524,\n",
       "         11.23640153, 11.23664401, 11.23698138, 11.23704112, 11.23742769,\n",
       "         11.23755772, 11.23802863, 11.23852766, 11.23865417, 11.23902669,\n",
       "         11.23916726, 11.23991228, 11.23992283, 11.24141639, 11.24158508,\n",
       "         11.24160968, 11.24163779, 11.24169753, 11.24231605, 11.24278344,\n",
       "         11.24281859, 11.24329653, 11.24353901, 11.24396424, 11.24425592,\n",
       "         11.24438244, 11.24446327, 11.24460384, 11.24470224, 11.24473035,\n",
       "         11.24482172, 11.24492715, 11.24534183, 11.24545078, 11.24585492,\n",
       "         11.24586195, 11.24649803, 11.24708843, 11.2472782 , 11.24735551,\n",
       "         11.24748202, 11.2476472 , 11.24791779, 11.24809351, 11.24811811,\n",
       "         11.24844845, 11.24918996, 11.2492497 , 11.2493727 , 11.25008259,\n",
       "         11.25017747, 11.25060621, 11.25065541, 11.25088735, 11.2511193 ,\n",
       "         11.25147775, 11.25171321, 11.25188541, 11.25189244, 11.25201895,\n",
       "         11.25222981, 11.25248986, 11.25299943, 11.25305566, 11.25328409,\n",
       "         11.25384637, 11.25398343, 11.2544684 , 11.25458085, 11.25487605,\n",
       "         11.25488659, 11.25505528, 11.25508691, 11.25525559, 11.25577219,\n",
       "         11.25590925, 11.25621147, 11.2565875 , 11.25684404, 11.25686513,\n",
       "         11.25702679, 11.25707247, 11.2574977 , 11.2575223 , 11.25800024,\n",
       "         11.25810215, 11.25842898, 11.25844304, 11.25859415, 11.25865741,\n",
       "         11.25881555, 11.25891746, 11.25895964, 11.25947623, 11.25970466,\n",
       "         11.25977846, 11.25985577, 11.26035129, 11.2605024 , 11.26053403,\n",
       "         11.26064649, 11.26068163, 11.26083977, 11.26097331, 11.2612896 ,\n",
       "         11.2613634 , 11.26144071, 11.26180619, 11.26218222, 11.26227359,\n",
       "         11.26281479, 11.26318028, 11.26321893, 11.26322947, 11.26338762,\n",
       "         11.26359496, 11.26368633, 11.2644419 , 11.26454381, 11.26457544,\n",
       "         11.2647617 , 11.26483901, 11.26504284, 11.26541184, 11.26546455,\n",
       "         11.26611821, 11.26614281, 11.26634312, 11.26644152, 11.26677186,\n",
       "         11.26709869, 11.26725683, 11.26732009, 11.26743254, 11.26772071,\n",
       "         11.267791  , 11.26825137, 11.26838843, 11.26864848, 11.26938648,\n",
       "         11.26955165, 11.26982225, 11.26989956, 11.27000499, 11.27000499,\n",
       "         11.2701069 , 11.27039156, 11.27042319, 11.27065162, 11.27087302,\n",
       "         11.27089762, 11.2709679 , 11.27140016, 11.27146341, 11.27182538,\n",
       "         11.2718535 , 11.27223655, 11.27256338, 11.27274261, 11.27291481,\n",
       "         11.27308701, 11.27322758, 11.27336815, 11.27396909, 11.2742924 ,\n",
       "         11.27455597, 11.27467546, 11.27471411, 11.27503743, 11.27530451,\n",
       "         11.27552942, 11.27571217, 11.27575082, 11.27606359, 11.27607765,\n",
       "         11.27635879, 11.27653802, 11.27671373, 11.27682971, 11.27694568,\n",
       "         11.2769527 , 11.2769773 , 11.27720573, 11.27725142, 11.27727602,\n",
       "         11.27733927, 11.27770827, 11.2779121 , 11.2780597 , 11.27836544,\n",
       "         11.27838301, 11.27846033, 11.27860793, 11.27994686, 11.28058646,\n",
       "         11.28083246, 11.28117334, 11.2812612 , 11.28151072, 11.28184106,\n",
       "         11.28203434, 11.28229088, 11.28238577, 11.28250877, 11.28252634,\n",
       "         11.28253688, 11.28272314, 11.28278991, 11.28314134, 11.28398828,\n",
       "         11.28416399, 11.28446973, 11.28469816, 11.28474033, 11.28484927,\n",
       "         11.2850285 , 11.28556267, 11.28580515, 11.28592464, 11.2860125 ,\n",
       "         11.28606521, 11.28624444, 11.28626904, 11.2863077 , 11.28664507,\n",
       "         11.28678915, 11.28686295, 11.28696838, 11.28699298, 11.28710895,\n",
       "         11.28711949, 11.28720735, 11.28752363, 11.28766772, 11.28801563,\n",
       "         11.28801915, 11.28806483, 11.28822649, 11.2882546 , 11.28858143,\n",
       "         11.28905937, 11.28936863, 11.28947405, 11.28947405, 11.2894846 ,\n",
       "         11.29010311, 11.29016637, 11.29018042, 11.29076379, 11.29080245,\n",
       "         11.29098871, 11.29106602, 11.2914315 , 11.29150179, 11.29210976,\n",
       "         11.29266853, 11.29273178, 11.29294967, 11.2932765 , 11.29331515,\n",
       "         11.29344518, 11.29394069, 11.29416209, 11.29428158, 11.29433781,\n",
       "         11.29509689, 11.29521989, 11.29547994, 11.29560294, 11.29560294,\n",
       "         11.29567323, 11.29593329, 11.29605277, 11.29621091, 11.29674157,\n",
       "         11.29675211, 11.29711759, 11.29722302, 11.29742685, 11.29763068,\n",
       "         11.29792939, 11.29811565, 11.2981543 , 11.29825973, 11.29829136,\n",
       "         11.29831596, 11.29833353, 11.29864279, 11.2987939 , 11.29890284,\n",
       "         11.29922616, 11.29926833, 11.29961273, 11.29963381, 11.29964787,\n",
       "         11.29983413, 11.29996415, 11.30047021, 11.30052292, 11.30085678,\n",
       "         11.30089544, 11.30102546, 11.30107466, 11.30115198, 11.30138743,\n",
       "         11.30154558, 11.30205866, 11.30206217, 11.30224492, 11.30304968,\n",
       "         11.30406531, 11.30407234, 11.30417074, 11.30423399, 11.30444134,\n",
       "         11.30509851, 11.30533396, 11.30537613, 11.3056151 , 11.30621253,\n",
       "         11.30638121, 11.3064023 , 11.3066237 , 11.3067467 , 11.30696458,\n",
       "         11.30697513, 11.30702433, 11.30723167, 11.30758309, 11.30762527,\n",
       "         11.30769907, 11.30774827, 11.30777638, 11.30783261, 11.30794155,\n",
       "         11.30805401, 11.30807158, 11.30812781, 11.30849329, 11.30862683,\n",
       "         11.30909775, 11.30965652, 11.30980763, 11.30995171, 11.31005011,\n",
       "         11.31013094, 11.31022583, 11.31023988, 11.31073891, 11.31076702,\n",
       "         11.31091814, 11.31153665, 11.31211651, 11.3121903 , 11.31226762,\n",
       "         11.31240116, 11.3129529 , 11.3130759 , 11.31313213, 11.31313213,\n",
       "         11.31350113, 11.31362061, 11.31378578, 11.31448864, 11.3145765 ,\n",
       "         11.31662532, 11.31675183, 11.3168432 , 11.3173352 , 11.31745117,\n",
       "         11.3177042 , 11.31774285, 11.31789045, 11.31813997, 11.31905368,\n",
       "         11.31961947, 11.31993224, 11.32042424, 11.32091624, 11.3211517 ,\n",
       "         11.32129227, 11.3215207 , 11.32158395, 11.32161558, 11.32216029,\n",
       "         11.32217786, 11.32259958, 11.323443  , 11.32429697, 11.32484168,\n",
       "         11.32580811, 11.32588893, 11.32591002, 11.32596625, 11.32616305,\n",
       "         11.32656719, 11.32761444, 11.32796236, 11.32822593, 11.32949809,\n",
       "         11.3303134 , 11.33039775, 11.33050669, 11.33194402, 11.33224977,\n",
       "         11.33308616, 11.33376442, 11.33431967, 11.33487844, 11.33491358,\n",
       "         11.33536341, 11.33593272, 11.33637552, 11.33695186, 11.33701863,\n",
       "         11.33731383, 11.337971  , 11.33971408, 11.34042045, 11.34072267,\n",
       "         11.34170316, 11.34221624, 11.34325646, 11.34401203, 11.344128  ,\n",
       "         11.3461698 , 11.34617682, 11.34640174, 11.34911476, 11.3497649 ,\n",
       "         11.34978598, 11.35071023, 11.3522776 , 11.35456188, 11.35491682,\n",
       "         11.35499413, 11.35563021, 11.35623818, 11.35998088, 11.36001603,\n",
       "         11.36725542, 11.36806371, 11.36816211, 11.3690477 , 11.37050261,\n",
       "         11.37085404, 11.37088215, 11.37353191, 11.37428748, 11.37443508,\n",
       "         11.37471271, 11.3776155 , 11.37896849, 11.38956402, 11.39341215])),\n",
       " (0.03777466718563098, 11.283244614378994, 0.9979748364604207))"
      ]
     },
     "execution_count": 236,
     "metadata": {},
     "output_type": "execute_result"
    },
    {
     "data": {
      "image/png": "[encoded data removed]",
      "text/plain": [
       "<Figure size 432x288 with 1 Axes>"
      ]
     },
     "metadata": {
      "needs_background": "light"
     },
     "output_type": "display_data"
    }
   ],
   "source": [
    "st.probplot(means, plot=plt)"
   ]
  },
  {
   "cell_type": "code",
   "execution_count": 230,
   "metadata": {},
   "outputs": [
    {
     "data": {
      "text/plain": [
       "control    284554\n",
       "exp        281580\n",
       "Name: slot, dtype: int64"
      ]
     },
     "execution_count": 230,
     "metadata": {},
     "output_type": "execute_result"
    }
   ],
   "source": [
    "browser['slot'].value_counts()"
   ]
  },
  {
   "cell_type": "code",
   "execution_count": 237,
   "metadata": {},
   "outputs": [
    {
     "data": {
      "text/plain": [
       "((array([282301.08823052, 282512.70968151, 282631.75042717, 282716.17888969,\n",
       "         282782.3450597 , 282837.12445286, 282884.08540284, 282925.32718789,\n",
       "         282962.19330369, 282995.59740261, 283026.19007273, 283054.45161344,\n",
       "         283080.74708391, 283105.36069051, 283128.51819018, 283150.40200679,\n",
       "         283171.16173792, 283190.92164617, 283209.78611976, 283227.84373074,\n",
       "         283245.17030322, 283261.83126848, 283277.88349787, 283293.37674667,\n",
       "         283308.35480452, 283322.85642111, 283336.91605832, 283350.56450624,\n",
       "         283363.82939197, 283376.73560265, 283389.30563983, 283401.55991797,\n",
       "         283413.51701739, 283425.19389989, 283436.60609342, 283447.76785089,\n",
       "         283458.69228763, 283469.39150054, 283479.87667212, 283490.1581613 ,\n",
       "         283500.24558336, 283510.1478802 , 283519.87338258, 283529.42986513,\n",
       "         283538.82459547, 283548.06437779, 283557.15559197, 283566.10422857,\n",
       "         283574.91592026, 283583.59597014, 283592.14937729, 283600.58085989,\n",
       "         283608.89487613, 283617.09564327, 283625.18715487, 283633.17319664,\n",
       "         283641.05736073, 283648.84305896, 283656.53353485, 283664.13187467,\n",
       "         283671.64101759, 283679.06376506, 283686.40278937, 283693.66064164,\n",
       "         283700.83975913, 283707.94247203, 283714.97100975, 283721.92750678,\n",
       "         283728.81400805, 283735.63247398, 283742.38478517, 283749.07274675,\n",
       "         283755.69809245, 283762.26248835, 283768.7675365 , 283775.21477815,\n",
       "         283781.6056969 , 283787.94172159, 283794.22422902, 283800.45454649,\n",
       "         283806.63395424, 283812.76368764, 283818.84493939, 283824.87886143,\n",
       "         283830.86656689, 283836.80913182, 283842.70759689, 283848.56296894,\n",
       "         283854.37622248, 283860.14830114, 283865.88011892, 283871.57256154,\n",
       "         283877.22648757, 283882.84272959, 283888.42209528, 283893.96536839,\n",
       "         283899.47330977, 283904.94665822, 283910.38613142, 283915.79242674,\n",
       "         283921.16622202, 283926.50817633, 283931.81893069, 283937.09910875,\n",
       "         283942.34931743, 283947.57014755, 283952.76217443, 283957.92595842,\n",
       "         283963.06204549, 283968.17096771, 283973.25324374, 283978.30937933,\n",
       "         283983.33986774, 283988.34519019, 283993.32581627, 283998.28220432,\n",
       "         284003.21480183, 284008.1240458 , 284013.01036307, 284017.87417068,\n",
       "         284022.71587615, 284027.53587786, 284032.33456525, 284037.11231919,\n",
       "         284041.8695122 , 284046.60650874, 284051.32366544, 284056.02133135,\n",
       "         284060.6998482 , 284065.35955058, 284070.00076617, 284074.62381599,\n",
       "         284079.22901454, 284083.81667002, 284088.38708453, 284092.94055423,\n",
       "         284097.47736951, 284101.99781517, 284106.5021706 , 284110.9907099 ,\n",
       "         284115.46370202, 284119.92141097, 284124.3640959 , 284128.79201125,\n",
       "         284133.20540691, 284137.6045283 , 284141.98961654, 284146.36090853,\n",
       "         284150.71863708, 284155.06303103, 284159.39431535, 284163.71271124,\n",
       "         284168.01843623, 284172.3117043 , 284176.59272594, 284180.86170828,\n",
       "         284185.11885513, 284189.36436712, 284193.59844176, 284197.8212735 ,\n",
       "         284202.03305385, 284206.23397143, 284210.42421205, 284214.60395878,\n",
       "         284218.77339204, 284222.93268964, 284227.08202685, 284231.22157649,\n",
       "         284235.35150896, 284239.47199235, 284243.58319242, 284247.68527274,\n",
       "         284251.77839469, 284255.86271755, 284259.93839852, 284264.00559282,\n",
       "         284268.06445369, 284272.11513246, 284276.1577786 , 284280.19253978,\n",
       "         284284.21956188, 284288.23898907, 284292.25096383, 284296.25562702,\n",
       "         284300.25311788, 284304.2435741 , 284308.22713187, 284312.20392588,\n",
       "         284316.17408939, 284320.13775425, 284324.09505096, 284328.04610865,\n",
       "         284331.9910552 , 284335.93001719, 284339.86311998, 284343.79048773,\n",
       "         284347.71224344, 284351.62850896, 284355.53940504, 284359.44505137,\n",
       "         284363.34556655, 284367.2410682 , 284371.13167294, 284375.01749643,\n",
       "         284378.89865337, 284382.77525757, 284386.64742196, 284390.51525859,\n",
       "         284394.37887871, 284398.23839273, 284402.09391029, 284405.94554027,\n",
       "         284409.7933908 , 284413.63756931, 284417.47818253, 284421.31533653,\n",
       "         284425.14913672, 284428.9796879 , 284432.80709425, 284436.63145937,\n",
       "         284440.45288631, 284444.27147757, 284448.08733512, 284451.90056045,\n",
       "         284455.71125455, 284459.51951795, 284463.32545074, 284467.1291526 ,\n",
       "         284470.93072277, 284474.73026015, 284478.52786324, 284482.3236302 ,\n",
       "         284486.11765885, 284489.91004673, 284493.70089104, 284497.49028873,\n",
       "         284501.27833648, 284505.06513075, 284508.85076774, 284512.63534346,\n",
       "         284516.41895375, 284520.20169424, 284523.98366043, 284527.76494767,\n",
       "         284531.54565119, 284535.32586611, 284539.10568748, 284542.88521026,\n",
       "         284546.66452935, 284550.44373963, 284554.22293595, 284558.00221316,\n",
       "         284561.78166611, 284565.56138969, 284569.34147882, 284573.1220285 ,\n",
       "         284576.9031338 , 284580.68488988, 284584.46739203, 284588.25073565,\n",
       "         284592.03501629, 284595.82032967, 284599.60677167, 284603.39443841,\n",
       "         284607.18342617, 284610.9738315 , 284614.76575118, 284618.55928228,\n",
       "         284622.35452211, 284626.15156834, 284629.95051891, 284633.75147211,\n",
       "         284637.55452662, 284641.35978145, 284645.16733602, 284648.97729018,\n",
       "         284652.78974418, 284656.60479873, 284660.42255503, 284664.24311475,\n",
       "         284668.06658007, 284671.8930537 , 284675.7226389 , 284679.55543951,\n",
       "         284683.39155994, 284687.23110523, 284691.07418106, 284694.92089374,\n",
       "         284698.77135027, 284702.62565836, 284706.48392642, 284710.34626364,\n",
       "         284714.21277994, 284718.08358607, 284721.95879356, 284725.83851482,\n",
       "         284729.72286311, 284733.61195257, 284737.50589829, 284741.40481628,\n",
       "         284745.30882353, 284749.21803804, 284753.13257882, 284757.05256597,\n",
       "         284760.97812064, 284764.90936512, 284768.84642284, 284772.7894184 ,\n",
       "         284776.73847764, 284780.6937276 , 284784.65529662, 284788.62331436,\n",
       "         284792.5979118 , 284796.57922131, 284800.56737669, 284804.56251316,\n",
       "         284808.56476746, 284812.57427785, 284816.59118415, 284820.61562782,\n",
       "         284824.64775193, 284828.68770128, 284832.73562239, 284836.79166356,\n",
       "         284840.85597493, 284844.92870852, 284849.01001825, 284853.10006005,\n",
       "         284857.19899185, 284861.30697365, 284865.42416762, 284869.55073807,\n",
       "         284873.68685158, 284877.83267703, 284881.98838566, 284886.15415111,\n",
       "         284890.33014954, 284894.51655964, 284898.71356272, 284902.92134278,\n",
       "         284907.14008657, 284911.36998369, 284915.61122661, 284919.86401081,\n",
       "         284924.12853482, 284928.40500033, 284932.69361223, 284936.99457874,\n",
       "         284941.30811149, 284945.63442561, 284949.97373981, 284954.32627649,\n",
       "         284958.69226186, 284963.07192602, 284967.46550308, 284971.87323126,\n",
       "         284976.29535302, 284980.73211517, 284985.18376902, 284989.65057046,\n",
       "         284994.13278012, 284998.63066352, 285003.14449119, 285007.67453881,\n",
       "         285012.2210874 , 285016.78442342, 285021.36483899, 285025.96263201,\n",
       "         285030.57810639, 285035.21157215, 285039.8633457 , 285044.53374998,\n",
       "         285049.22311464, 285053.93177633, 285058.66007884, 285063.40837336,\n",
       "         285068.17701873, 285072.96638164, 285077.77683693, 285082.60876782,\n",
       "         285087.4625662 , 285092.33863293, 285097.2373781 , 285102.15922138,\n",
       "         285107.10459232, 285112.07393068, 285117.06768681, 285122.08632199,\n",
       "         285127.13030882, 285132.20013161, 285137.29628682, 285142.41928347,\n",
       "         285147.5696436 , 285152.74790275, 285157.95461046, 285163.19033076,\n",
       "         285168.45564277, 285173.7511412 , 285179.07743701, 285184.43515798,\n",
       "         285189.82494941, 285195.24747478, 285200.70341648, 285206.19347656,\n",
       "         285211.71837755, 285217.27886325, 285222.87569968, 285228.50967592,\n",
       "         285234.18160516, 285239.89232568, 285245.64270196, 285251.43362579,\n",
       "         285257.26601751, 285263.14082726, 285269.05903632, 285275.02165856,\n",
       "         285281.0297419 , 285287.08436992, 285293.18666357, 285299.33778292,\n",
       "         285305.53892905, 285311.79134611, 285318.0963234 , 285324.45519769,\n",
       "         285330.86935561, 285337.34023621, 285343.86933375, 285350.45820058,\n",
       "         285357.1084503 , 285363.82176106, 285370.59987917, 285377.4446229 ,\n",
       "         285384.35788656, 285391.34164495, 285398.397958  , 285405.5289759 ,\n",
       "         285412.73694453, 285420.02421133, 285427.39323167, 285434.84657566,\n",
       "         285442.38693555, 285450.01713377, 285457.74013158, 285465.55903852,\n",
       "         285473.47712262, 285481.49782155, 285489.62475483, 285497.86173701,\n",
       "         285506.21279224, 285514.68217014, 285523.27436327, 285531.99412626,\n",
       "         285540.84649694, 285549.8368197 , 285558.97077115, 285568.25438879,\n",
       "         285577.69410264, 285587.29677059, 285597.06971775, 285607.02078058,\n",
       "         285617.15835625, 285627.49145825, 285638.02977913, 285648.78376142,\n",
       "         285659.76467818, 285670.98472471, 285682.45712344, 285694.19624422,\n",
       "         285706.21774289, 285718.5387216 , 285731.17791514, 285744.15590844,\n",
       "         285757.49539186, 285771.22146242, 285785.36198137, 285799.94800112,\n",
       "         285815.01427872, 285830.59989764, 285846.74902683, 285863.51185514,\n",
       "         285880.94575255, 285899.11672772, 285918.10127825, 285937.98876845,\n",
       "         285958.88452702, 285980.91394467, 286004.22798802, 286029.01076454,\n",
       "         286055.49013345, 286083.95297312, 286114.76781015, 286148.41955658,\n",
       "         286185.56512403, 286227.12716328, 286274.46259763, 286329.69203887,\n",
       "         286396.42079133, 286481.59729037, 286601.75026265, 286815.51529805]),\n",
       "  array([391.05579663, 392.46793055, 395.32685402, 396.84913064,\n",
       "         397.56383902, 397.70402301, 398.05163061, 398.15321259,\n",
       "         398.52332994, 398.62891615, 398.84726302, 399.02961757,\n",
       "         399.18344123, 399.20635799, 399.31280592, 399.44172207,\n",
       "         399.47207262, 399.82930965, 400.12030606, 400.32628173,\n",
       "         400.36981429, 400.39245436, 400.54967933, 400.56393959,\n",
       "         400.71797309, 400.72945969, 400.98005469, 401.44552628,\n",
       "         401.66918092, 401.8005267 , 401.87161821, 401.88644032,\n",
       "         401.96498016, 402.05201201, 402.11585944, 402.13591328,\n",
       "         402.14993129, 402.15587881, 402.27760742, 402.31603195,\n",
       "         402.35263027, 402.38798108, 402.42134161, 402.44144462,\n",
       "         402.60499427, 402.86286236, 403.05493146, 403.09184202,\n",
       "         403.10592148, 403.10740152, 403.16326661, 403.18447467,\n",
       "         403.20110759, 403.22166333, 403.31576059, 403.35055694,\n",
       "         403.52620822, 403.60025894, 403.60468806, 403.63122279,\n",
       "         403.65049764, 403.66175067, 403.73859297, 403.78185565,\n",
       "         403.96020637, 403.98964293, 404.01555341, 404.20080306,\n",
       "         404.27906866, 404.31980557, 404.37382211, 404.46053487,\n",
       "         404.46476036, 404.48408021, 404.55148322, 404.63554268,\n",
       "         404.63929526, 404.81317193, 404.95498285, 405.22612993,\n",
       "         405.26797957, 405.2725687 , 405.31008312, 405.34125792,\n",
       "         405.3671247 , 405.38433179, 405.4912976 , 405.51371411,\n",
       "         405.52670277, 405.56989856, 405.57436642, 405.61016045,\n",
       "         405.79908878, 405.87243512, 405.88442051, 405.94923939,\n",
       "         406.16210153, 406.18725911, 406.19278948, 406.21346055,\n",
       "         406.29109883, 406.39196199, 406.45315475, 406.48507223,\n",
       "         406.53071638, 406.55142664, 406.5630763 , 406.57495931,\n",
       "         406.64699923, 406.65073712, 406.67484331, 406.74254505,\n",
       "         406.79979509, 406.81739049, 406.88183962, 406.88184166,\n",
       "         406.94726373, 406.96468617, 406.98277168, 407.0381458 ,\n",
       "         407.1192808 , 407.12162976, 407.2148195 , 407.23071187,\n",
       "         407.25293313, 407.34840601, 407.36811424, 407.39927412,\n",
       "         407.42423338, 407.42520373, 407.46432327, 407.49029153,\n",
       "         407.5896389 , 407.67533715, 407.67700151, 407.71788603,\n",
       "         407.79385215, 407.85314459, 407.86611653, 407.87902464,\n",
       "         407.97030667, 408.03523847, 408.03848268, 408.0496157 ,\n",
       "         408.05288721, 408.13580003, 408.18025401, 408.23558085,\n",
       "         408.24847951, 408.24948906, 408.28328543, 408.32244803,\n",
       "         408.33070061, 408.33687965, 408.35755313, 408.36262941,\n",
       "         408.37474815, 408.42168345, 408.43272891, 408.44416737,\n",
       "         408.44729049, 408.46217832, 408.49046701, 408.55007621,\n",
       "         408.57756207, 408.62695795, 408.68820158, 408.69019355,\n",
       "         408.69777773, 408.71525908, 408.72928465, 408.82391068,\n",
       "         408.85126623, 408.88985761, 408.974261  , 409.00028964,\n",
       "         409.08239819, 409.18293485, 409.19161724, 409.21544776,\n",
       "         409.21584427, 409.31260928, 409.38287906, 409.39009056,\n",
       "         409.44900122, 409.45399909, 409.46329346, 409.48997591,\n",
       "         409.51944961, 409.53201373, 409.53275043, 409.56560821,\n",
       "         409.57763064, 409.60765264, 409.61352787, 409.68695908,\n",
       "         409.69493504, 409.7055029 , 409.72113194, 409.74240501,\n",
       "         409.79416264, 409.90338157, 409.98598195, 409.99777949,\n",
       "         410.0010745 , 410.01645347, 410.08030642, 410.23079677,\n",
       "         410.31949886, 410.3481813 , 410.35586609, 410.37521915,\n",
       "         410.37653835, 410.37726104, 410.39530045, 410.426834  ,\n",
       "         410.48793905, 410.50823442, 410.54099788, 410.62594983,\n",
       "         410.65827059, 410.65973533, 410.68321059, 410.69957811,\n",
       "         410.70009377, 410.71754321, 410.73291783, 410.73332889,\n",
       "         410.81774573, 410.88440847, 410.96914767, 411.01293828,\n",
       "         411.04346279, 411.04731012, 411.06899333, 411.11655749,\n",
       "         411.11913099, 411.18569238, 411.2257793 , 411.27651526,\n",
       "         411.303259  , 411.3232003 , 411.324907  , 411.33492182,\n",
       "         411.35444425, 411.36302632, 411.50284243, 411.50560376,\n",
       "         411.52681047, 411.55902388, 411.57192225, 411.57281332,\n",
       "         411.62928939, 411.64321702, 411.68360022, 411.69514404,\n",
       "         411.69972492, 411.80753828, 411.81023753, 411.82938415,\n",
       "         411.92678568, 411.92923484, 411.95123207, 411.9532937 ,\n",
       "         411.96224114, 411.96790574, 412.00629238, 412.01453361,\n",
       "         412.04328072, 412.24240672, 412.32046352, 412.4068469 ,\n",
       "         412.44894074, 412.46933111, 412.51161982, 412.52883149,\n",
       "         412.58814584, 412.62030401, 412.6244994 , 412.65486624,\n",
       "         412.67788968, 412.75182788, 412.8160757 , 412.88757679,\n",
       "         412.89240102, 412.92148843, 412.9359182 , 412.95520641,\n",
       "         413.02802605, 413.03627778, 413.04944379, 413.07635744,\n",
       "         413.12853692, 413.15591631, 413.17282686, 413.19151596,\n",
       "         413.21522496, 413.27783295, 413.29124793, 413.30704511,\n",
       "         413.31814832, 413.33217698, 413.48616051, 413.55306754,\n",
       "         413.61138123, 413.63609115, 413.66661629, 413.67746668,\n",
       "         413.70493482, 413.71943542, 413.77347632, 413.8248349 ,\n",
       "         413.83253046, 413.86831929, 413.89707648, 413.89987058,\n",
       "         413.96544757, 413.98660947, 413.98742488, 414.06780538,\n",
       "         414.07756814, 414.09364132, 414.10118322, 414.15269886,\n",
       "         414.17104015, 414.18383058, 414.23140053, 414.29396543,\n",
       "         414.31606807, 414.33948736, 414.40081901, 414.40147269,\n",
       "         414.42916121, 414.47527025, 414.51476996, 414.65970565,\n",
       "         414.68590393, 414.70720855, 414.74253715, 414.87804273,\n",
       "         414.88887495, 414.89355765, 414.90693621, 414.91207583,\n",
       "         414.93146443, 414.94483916, 414.94667849, 414.98437355,\n",
       "         415.02536971, 415.05316225, 415.20542849, 415.21260218,\n",
       "         415.22252218, 415.26853005, 415.34750758, 415.3698561 ,\n",
       "         415.40627024, 415.41201923, 415.41545055, 415.49043613,\n",
       "         415.49552532, 415.55229928, 415.59081296, 415.59624886,\n",
       "         415.63432375, 415.65540051, 415.65619178, 415.68503788,\n",
       "         415.70125503, 415.81395834, 415.81707365, 415.83735541,\n",
       "         415.85049479, 415.8979741 , 415.90707381, 415.93548802,\n",
       "         415.97738242, 416.01345222, 416.053936  , 416.12067755,\n",
       "         416.15036273, 416.15774142, 416.20922289, 416.22447409,\n",
       "         416.28717685, 416.31422537, 416.35513848, 416.38454442,\n",
       "         416.41519874, 416.41810263, 416.43165393, 416.45858595,\n",
       "         416.52518817, 416.59122962, 416.63179705, 416.67170915,\n",
       "         416.67603579, 416.70131951, 416.74037623, 416.76600176,\n",
       "         416.79365825, 416.79974363, 416.82294135, 416.82970715,\n",
       "         416.85411067, 416.86006905, 416.88985055, 416.90697268,\n",
       "         416.98409092, 417.05424828, 417.0986252 , 417.12074727,\n",
       "         417.12386537, 417.18068103, 417.19759982, 417.26360503,\n",
       "         417.28110243, 417.28660306, 417.3002586 , 417.35064834,\n",
       "         417.44646002, 417.71774486, 417.78849621, 417.8200663 ,\n",
       "         417.8758084 , 417.91664285, 417.91673629, 417.93718711,\n",
       "         417.99056701, 418.00370531, 418.01516662, 418.02009065,\n",
       "         418.09067026, 418.25837975, 418.27059022, 418.32555122,\n",
       "         418.5361438 , 418.54752922, 418.7198217 , 418.74829148,\n",
       "         418.77235843, 418.97203856, 419.15302504, 419.18723013,\n",
       "         419.23883683, 419.40311696, 419.45471701, 419.51992724,\n",
       "         419.79264549, 419.84813235, 419.85332141, 420.01978736,\n",
       "         420.0795452 , 420.22772471, 420.28224801, 420.47037344,\n",
       "         420.48863087, 420.50719977, 420.53683362, 420.6135268 ,\n",
       "         420.82624421, 420.92389058, 420.97434545, 421.0580661 ,\n",
       "         421.07547458, 421.09205558, 421.13167081, 421.48821497,\n",
       "         421.55891298, 421.74714905, 421.88882911, 421.97696134,\n",
       "         422.19238495, 422.2167847 , 422.23464855, 422.36109054,\n",
       "         422.36386246, 423.56656371, 423.79684713, 423.84795566,\n",
       "         424.11660218, 424.22390516, 424.6437641 , 424.73985367,\n",
       "         424.75642433, 424.98136899, 425.48439632, 425.90798404,\n",
       "         426.09726033, 426.20560017, 426.57095054, 426.64204582,\n",
       "         426.66034216, 426.9136146 , 427.09661838, 427.5996995 ,\n",
       "         429.16946228, 430.47625736, 431.4598052 , 434.63555467])),\n",
       " (0.008742890781324059, -2076.1911314510653, 0.998257189578374))"
      ]
     },
     "execution_count": 237,
     "metadata": {},
     "output_type": "execute_result"
    },
    {
     "data": {
      "image/png": "[encoded data removed]",
      "text/plain": [
       "<Figure size 432x288 with 1 Axes>"
      ]
     },
     "metadata": {
      "needs_background": "light"
     },
     "output_type": "display_data"
    }
   ],
   "source": [
    "st.probplot(var, dist=\"chi2\", sparams=(284554-1), plot=plt)"
   ]
  },
  {
   "cell_type": "markdown",
   "metadata": {},
   "source": [
    "Тест Манн-Уитни"
   ]
  },
  {
   "cell_type": "code",
   "execution_count": 266,
   "metadata": {},
   "outputs": [],
   "source": [
    "df_control = browser.query('slot == \"control\"').groupby('userID').agg({'n_clicks' : 'sum'})\n",
    "df_exp = browser.query('slot == \"exp\"').groupby('userID').agg({'n_clicks' : 'sum'})"
   ]
  },
  {
   "cell_type": "code",
   "execution_count": 256,
   "metadata": {},
   "outputs": [
    {
     "data": {
      "text/html": [
       "<div>\n",
       "<style scoped>\n",
       "    .dataframe tbody tr th:only-of-type {\n",
       "        vertical-align: middle;\n",
       "    }\n",
       "\n",
       "    .dataframe tbody tr th {\n",
       "        vertical-align: top;\n",
       "    }\n",
       "\n",
       "    .dataframe thead th {\n",
       "        text-align: right;\n",
       "    }\n",
       "</style>\n",
       "<table border=\"1\" class=\"dataframe\">\n",
       "  <thead>\n",
       "    <tr style=\"text-align: right;\">\n",
       "      <th></th>\n",
       "      <th>userID</th>\n",
       "      <th>n_clicks</th>\n",
       "    </tr>\n",
       "  </thead>\n",
       "  <tbody>\n",
       "    <tr>\n",
       "      <th>0</th>\n",
       "      <td>1</td>\n",
       "      <td>23</td>\n",
       "    </tr>\n",
       "    <tr>\n",
       "      <th>1</th>\n",
       "      <td>3</td>\n",
       "      <td>3</td>\n",
       "    </tr>\n",
       "    <tr>\n",
       "      <th>2</th>\n",
       "      <td>5</td>\n",
       "      <td>29</td>\n",
       "    </tr>\n",
       "    <tr>\n",
       "      <th>3</th>\n",
       "      <td>7</td>\n",
       "      <td>54</td>\n",
       "    </tr>\n",
       "    <tr>\n",
       "      <th>4</th>\n",
       "      <td>9</td>\n",
       "      <td>6</td>\n",
       "    </tr>\n",
       "  </tbody>\n",
       "</table>\n",
       "</div>"
      ],
      "text/plain": [
       "   userID  n_clicks\n",
       "0       1        23\n",
       "1       3         3\n",
       "2       5        29\n",
       "3       7        54\n",
       "4       9         6"
      ]
     },
     "execution_count": 256,
     "metadata": {},
     "output_type": "execute_result"
    }
   ],
   "source": [
    "df_exp.head()"
   ]
  },
  {
   "cell_type": "code",
   "execution_count": 253,
   "metadata": {},
   "outputs": [
    {
     "data": {
      "text/plain": [
       "(284392, 2)"
      ]
     },
     "execution_count": 253,
     "metadata": {},
     "output_type": "execute_result"
    }
   ],
   "source": [
    "df_control.shape"
   ]
  },
  {
   "cell_type": "code",
   "execution_count": 254,
   "metadata": {},
   "outputs": [
    {
     "data": {
      "text/plain": [
       "control    284554\n",
       "exp        281580\n",
       "Name: slot, dtype: int64"
      ]
     },
     "execution_count": 254,
     "metadata": {},
     "output_type": "execute_result"
    }
   ],
   "source": [
    "browser['slot'].value_counts()"
   ]
  },
  {
   "cell_type": "code",
   "execution_count": 259,
   "metadata": {},
   "outputs": [
    {
     "data": {
      "text/plain": [
       "MannwhitneyuResult(statistic=41140868471.0, pvalue=8.694294377520879e-75)"
      ]
     },
     "execution_count": 259,
     "metadata": {},
     "output_type": "execute_result"
    }
   ],
   "source": [
    "st.mannwhitneyu(df_exp, df_control, alternative='two-sided')"
   ]
  },
  {
   "cell_type": "code",
   "execution_count": 267,
   "metadata": {},
   "outputs": [],
   "source": [
    "df_control_browser = browser.query('slot == \"control\"').groupby(['browser', 'userID']).agg({'n_clicks' : 'sum'})\n",
    "df_exp_browser = browser.query('slot == \"exp\"').groupby(['browser', 'userID']).agg({'n_clicks' : 'sum'})"
   ]
  },
  {
   "cell_type": "code",
   "execution_count": 294,
   "metadata": {},
   "outputs": [
    {
     "name": "stdout",
     "output_type": "stream",
     "text": [
      "Browser #2 mann-whitney stat 1522572720.0, 0.0544877208394482\n",
      "Browser #4 mann-whitney stat 3072447765.0, 0.8152123531690997\n",
      "Browser #14 mann-whitney stat 806984730.5, 0.0\n",
      "Browser #17 mann-whitney stat 131389681.0, 0.07480120286021603\n",
      "Browser #20 mann-whitney stat 143791805.0, 0.9073331277747075\n",
      "Browser #22 mann-whitney stat 2557723040.5, 0.5148110304420064\n"
     ]
    }
   ],
   "source": [
    "mann_w_table = []\n",
    "for i in browser['browser'].unique():\n",
    "    a = df_control_browser.loc[i]\n",
    "    b = df_exp_browser.loc[i]\n",
    "    stat, p = st.mannwhitneyu(a, b, alternative='two-sided')\n",
    "    mann_w_table.append([i, stat, p])\n",
    "    print('{} mann-whitney stat {}, {}'.format(i, stat, p))"
   ]
  },
  {
   "cell_type": "code",
   "execution_count": 297,
   "metadata": {},
   "outputs": [],
   "source": [
    "mann_w_table = pd.DataFrame.from_records(mann_w_table, columns=['browser', 'stat', 'p'])"
   ]
  },
  {
   "cell_type": "code",
   "execution_count": 306,
   "metadata": {},
   "outputs": [
    {
     "data": {
      "text/html": [
       "<div>\n",
       "<style scoped>\n",
       "    .dataframe tbody tr th:only-of-type {\n",
       "        vertical-align: middle;\n",
       "    }\n",
       "\n",
       "    .dataframe tbody tr th {\n",
       "        vertical-align: top;\n",
       "    }\n",
       "\n",
       "    .dataframe thead th {\n",
       "        text-align: right;\n",
       "    }\n",
       "</style>\n",
       "<table border=\"1\" class=\"dataframe\">\n",
       "  <thead>\n",
       "    <tr style=\"text-align: right;\">\n",
       "      <th></th>\n",
       "      <th>browser</th>\n",
       "      <th>stat</th>\n",
       "      <th>p</th>\n",
       "      <th>p_adj</th>\n",
       "    </tr>\n",
       "  </thead>\n",
       "  <tbody>\n",
       "    <tr>\n",
       "      <th>0</th>\n",
       "      <td>Browser #2</td>\n",
       "      <td>1.522573e+09</td>\n",
       "      <td>0.054488</td>\n",
       "      <td>0.272439</td>\n",
       "    </tr>\n",
       "    <tr>\n",
       "      <th>1</th>\n",
       "      <td>Browser #4</td>\n",
       "      <td>3.072448e+09</td>\n",
       "      <td>0.815212</td>\n",
       "      <td>1.000000</td>\n",
       "    </tr>\n",
       "    <tr>\n",
       "      <th>2</th>\n",
       "      <td>Browser #14</td>\n",
       "      <td>8.069847e+08</td>\n",
       "      <td>0.000000</td>\n",
       "      <td>0.000000</td>\n",
       "    </tr>\n",
       "    <tr>\n",
       "      <th>3</th>\n",
       "      <td>Browser #17</td>\n",
       "      <td>1.313897e+08</td>\n",
       "      <td>0.074801</td>\n",
       "      <td>0.299205</td>\n",
       "    </tr>\n",
       "    <tr>\n",
       "      <th>4</th>\n",
       "      <td>Browser #20</td>\n",
       "      <td>1.437918e+08</td>\n",
       "      <td>0.907333</td>\n",
       "      <td>1.000000</td>\n",
       "    </tr>\n",
       "    <tr>\n",
       "      <th>5</th>\n",
       "      <td>Browser #22</td>\n",
       "      <td>2.557723e+09</td>\n",
       "      <td>0.514811</td>\n",
       "      <td>1.000000</td>\n",
       "    </tr>\n",
       "  </tbody>\n",
       "</table>\n",
       "</div>"
      ],
      "text/plain": [
       "       browser          stat         p     p_adj\n",
       "0   Browser #2  1.522573e+09  0.054488  0.272439\n",
       "1   Browser #4  3.072448e+09  0.815212  1.000000\n",
       "2  Browser #14  8.069847e+08  0.000000  0.000000\n",
       "3  Browser #17  1.313897e+08  0.074801  0.299205\n",
       "4  Browser #20  1.437918e+08  0.907333  1.000000\n",
       "5  Browser #22  2.557723e+09  0.514811  1.000000"
      ]
     },
     "execution_count": 306,
     "metadata": {},
     "output_type": "execute_result"
    }
   ],
   "source": [
    "rej, p_adj, a, b = multipletests(mann_w_table.p, alpha = 0.05, method = 'holm')\n",
    "mann_w_table['p_adj'] = p_adj\n",
    "mann_w_table"
   ]
  },
  {
   "cell_type": "code",
   "execution_count": 313,
   "metadata": {},
   "outputs": [],
   "source": [
    "nonclk_rate = browser.groupby(['slot', 'browser']).agg({'n_nonclk_queries' : 'sum', 'n_queries' : 'sum'})"
   ]
  },
  {
   "cell_type": "code",
   "execution_count": 319,
   "metadata": {},
   "outputs": [],
   "source": [
    "nonclk_rate['nonclk_rate'] = round((nonclk_rate['n_nonclk_queries']/nonclk_rate['n_queries'])*100, 2)"
   ]
  },
  {
   "cell_type": "code",
   "execution_count": 320,
   "metadata": {},
   "outputs": [
    {
     "data": {
      "text/html": [
       "<div>\n",
       "<style scoped>\n",
       "    .dataframe tbody tr th:only-of-type {\n",
       "        vertical-align: middle;\n",
       "    }\n",
       "\n",
       "    .dataframe tbody tr th {\n",
       "        vertical-align: top;\n",
       "    }\n",
       "\n",
       "    .dataframe thead th {\n",
       "        text-align: right;\n",
       "    }\n",
       "</style>\n",
       "<table border=\"1\" class=\"dataframe\">\n",
       "  <thead>\n",
       "    <tr style=\"text-align: right;\">\n",
       "      <th></th>\n",
       "      <th></th>\n",
       "      <th>n_nonclk_queries</th>\n",
       "      <th>n_queries</th>\n",
       "      <th>nonclk_rate</th>\n",
       "    </tr>\n",
       "    <tr>\n",
       "      <th>slot</th>\n",
       "      <th>browser</th>\n",
       "      <th></th>\n",
       "      <th></th>\n",
       "      <th></th>\n",
       "    </tr>\n",
       "  </thead>\n",
       "  <tbody>\n",
       "    <tr>\n",
       "      <th rowspan=\"6\" valign=\"top\">control</th>\n",
       "      <th>Browser #14</th>\n",
       "      <td>161252</td>\n",
       "      <td>279998</td>\n",
       "      <td>57.59</td>\n",
       "    </tr>\n",
       "    <tr>\n",
       "      <th>Browser #17</th>\n",
       "      <td>75837</td>\n",
       "      <td>208921</td>\n",
       "      <td>36.30</td>\n",
       "    </tr>\n",
       "    <tr>\n",
       "      <th>Browser #2</th>\n",
       "      <td>260259</td>\n",
       "      <td>566239</td>\n",
       "      <td>45.96</td>\n",
       "    </tr>\n",
       "    <tr>\n",
       "      <th>Browser #20</th>\n",
       "      <td>78548</td>\n",
       "      <td>193752</td>\n",
       "      <td>40.54</td>\n",
       "    </tr>\n",
       "    <tr>\n",
       "      <th>Browser #22</th>\n",
       "      <td>315470</td>\n",
       "      <td>777135</td>\n",
       "      <td>40.59</td>\n",
       "    </tr>\n",
       "    <tr>\n",
       "      <th>Browser #4</th>\n",
       "      <td>498254</td>\n",
       "      <td>1060771</td>\n",
       "      <td>46.97</td>\n",
       "    </tr>\n",
       "    <tr>\n",
       "      <th rowspan=\"6\" valign=\"top\">exp</th>\n",
       "      <th>Browser #14</th>\n",
       "      <td>123656</td>\n",
       "      <td>282606</td>\n",
       "      <td>43.76</td>\n",
       "    </tr>\n",
       "    <tr>\n",
       "      <th>Browser #17</th>\n",
       "      <td>77614</td>\n",
       "      <td>210123</td>\n",
       "      <td>36.94</td>\n",
       "    </tr>\n",
       "    <tr>\n",
       "      <th>Browser #2</th>\n",
       "      <td>246514</td>\n",
       "      <td>548019</td>\n",
       "      <td>44.98</td>\n",
       "    </tr>\n",
       "    <tr>\n",
       "      <th>Browser #20</th>\n",
       "      <td>72998</td>\n",
       "      <td>187283</td>\n",
       "      <td>38.98</td>\n",
       "    </tr>\n",
       "    <tr>\n",
       "      <th>Browser #22</th>\n",
       "      <td>296177</td>\n",
       "      <td>743156</td>\n",
       "      <td>39.85</td>\n",
       "    </tr>\n",
       "    <tr>\n",
       "      <th>Browser #4</th>\n",
       "      <td>456508</td>\n",
       "      <td>1011250</td>\n",
       "      <td>45.14</td>\n",
       "    </tr>\n",
       "  </tbody>\n",
       "</table>\n",
       "</div>"
      ],
      "text/plain": [
       "                     n_nonclk_queries  n_queries  nonclk_rate\n",
       "slot    browser                                              \n",
       "control Browser #14            161252     279998        57.59\n",
       "        Browser #17             75837     208921        36.30\n",
       "        Browser #2             260259     566239        45.96\n",
       "        Browser #20             78548     193752        40.54\n",
       "        Browser #22            315470     777135        40.59\n",
       "        Browser #4             498254    1060771        46.97\n",
       "exp     Browser #14            123656     282606        43.76\n",
       "        Browser #17             77614     210123        36.94\n",
       "        Browser #2             246514     548019        44.98\n",
       "        Browser #20             72998     187283        38.98\n",
       "        Browser #22            296177     743156        39.85\n",
       "        Browser #4             456508    1011250        45.14"
      ]
     },
     "execution_count": 320,
     "metadata": {},
     "output_type": "execute_result"
    }
   ],
   "source": [
    "nonclk_rate"
   ]
  },
  {
   "cell_type": "code",
   "execution_count": null,
   "metadata": {},
   "outputs": [],
   "source": []
  }
 ],
 "metadata": {
  "kernelspec": {
   "display_name": "Python 3",
   "language": "python",
   "name": "python3"
  },
  "language_info": {
   "codemirror_mode": {
    "name": "ipython",
    "version": 3
   },
   "file_extension": ".py",
   "mimetype": "text/x-python",
   "name": "python",
   "nbconvert_exporter": "python",
   "pygments_lexer": "ipython3",
   "version": "3.7.6"
  }
 },
 "nbformat": 4,
 "nbformat_minor": 4
}
